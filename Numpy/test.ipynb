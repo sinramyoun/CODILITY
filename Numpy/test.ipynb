{
 "cells": [
  {
   "cell_type": "markdown",
   "id": "physical-drove",
   "metadata": {},
   "source": [
    "# 무작정 Numpy 따라해보기\n",
    "\n",
    "import"
   ]
  },
  {
   "cell_type": "code",
   "execution_count": 2,
   "id": "fewer-spell",
   "metadata": {},
   "outputs": [
    {
     "data": {
      "text/plain": [
       "array([1, 2, 3])"
      ]
     },
     "execution_count": 2,
     "metadata": {},
     "output_type": "execute_result"
    }
   ],
   "source": [
    "import numpy as np\n",
    "\n",
    "np.array([1,2,3])\n"
   ]
  },
  {
   "cell_type": "markdown",
   "id": "stretch-resort",
   "metadata": {},
   "source": [
    "Numpy는 행과 열로 나누어져 있는데 행열을 구분하는것은 중괄호 []\n"
   ]
  },
  {
   "cell_type": "code",
   "execution_count": null,
   "id": "pharmaceutical-involvement",
   "metadata": {},
   "outputs": [],
   "source": []
  },
  {
   "cell_type": "markdown",
   "id": "thirty-swaziland",
   "metadata": {},
   "source": [
    "--------------------------------------------------------"
   ]
  },
  {
   "cell_type": "code",
   "execution_count": null,
   "id": "conceptual-arrangement",
   "metadata": {},
   "outputs": [],
   "source": []
  }
 ],
 "metadata": {
  "kernelspec": {
   "display_name": "Python 3",
   "language": "python",
   "name": "python3"
  },
  "language_info": {
   "codemirror_mode": {
    "name": "ipython",
    "version": 3
   },
   "file_extension": ".py",
   "mimetype": "text/x-python",
   "name": "python",
   "nbconvert_exporter": "python",
   "pygments_lexer": "ipython3",
   "version": "3.8.8"
  }
 },
 "nbformat": 4,
 "nbformat_minor": 5
}
